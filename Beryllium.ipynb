{
 "cells": [
  {
   "cell_type": "markdown",
   "metadata": {},
   "source": [
    "# Hartree-Fock equations for many-electron systems"
   ]
  },
  {
   "cell_type": "markdown",
   "metadata": {},
   "source": [
    "We solve the Hartree-Fock equations for a closed-shell many-electron system\n",
    "\\begin{equation*}\n",
    "\\left[\\hat{T} + \\hat{V}\\right]\\Phi = \\Phi F\n",
    "\\end{equation*}\n",
    "without resorting to the kinetic energy operator\n",
    "\\begin{equation*}\n",
    "\\hat{T} = -\\frac{1}{2}\\nabla^2\n",
    "\\end{equation*}\n",
    "\n",
    "In the equation above $\\Phi$ is a row vector of doubly occupied orbitals,\n",
    "$F = \\langle\\Phi|\\hat{T}+\\hat{V}|\\Phi\\rangle$ is the Fock matrix, and\n",
    "$\\hat{V} = \\hat{V}_{nuc} + 2\\hat{J} - \\hat{K}$ is the potential operator.\n",
    "We here define the nuclear attraction potential\n",
    "\\begin{align*}\n",
    "\\hat{V}_{nuc}(r) = \\sum_I \\frac{-Z_I}{|R_I - r|}\n",
    "\\end{align*}\n",
    "with $Z_I$ and $R_I$ being the nuclear charges and positions,\n",
    "and the Coulomb and Exchange operators\n",
    "\\begin{align*}\n",
    "\\hat{J} \\varphi_i &= \\sum_j \\hat{P}[\\varphi_j \\varphi_j^\\dagger] \\varphi_i \\\\\n",
    "\\hat{K} \\varphi_i &= \\sum_j \\hat{P}[\\varphi_i \\varphi_j^\\dagger] \\varphi_j\n",
    "\\end{align*}\n",
    "where $\\hat{P}$ is the convolution operator with the Poisson kernel $P=1/r$.\n",
    "We iterate the Hartree-Fock equations in their integral form\n",
    "\\begin{equation*}\n",
    "\\tilde{\\Phi}^{n+1} = -2 \\hat{G}^{\\vec{\\mu}^n}\\left[\\hat{V} \\Phi^n + \\Phi^n\\left(\\Lambda^n - F^n\\right)\\right]\n",
    "\\end{equation*}\n",
    "where $\\hat{G}^{\\vec{\\mu}}$ is a vector of convolution operators with the\n",
    "bound-state Helmholtz kernel $G^{\\mu} = e^{-\\mu r}/r$ and $\\mu_i^n = \\sqrt{-2\\lambda_i^n}$\n",
    "is a positive real number. $\\Lambda_{ij}^n = \\lambda_i^n\\delta_{ij}$ is a diagonal matrix containing\n",
    "the same parameters as used in the construction of the Helmholz vector. In practice we choose\n",
    "$\\lambda_i^n = F_{ii}^n$ such that diagonal elements vanish in $\\left(\\Lambda^n - F^n\\right)$.\n",
    "\n",
    "\n",
    "The Fock matrix at iteration $n+1$ is computed as an update to the previous guess\n",
    "\\begin{align*}\n",
    "\\tilde{F}^{n+1} = F^n + \\Delta \\tilde{S}^n_1 F^n + \\Delta \\tilde{S}^n_2 \\Lambda^n + \\Delta \\tilde{F}^n_{pot}\n",
    "\\end{align*}\n",
    "where\n",
    "\\begin{align*}\n",
    "\\Delta \\tilde{S}^n_1 &= \\langle\\Delta\\Phi^n |  \\Phi^n \\rangle \\\\\n",
    "\\Delta \\tilde{S}^n_2 &= \\langle\\tilde{\\Phi}^{n+1} | \\Delta \\tilde{\\Phi}^n \\rangle\n",
    "\\end{align*}\n",
    "and \n",
    "\\begin{align*}\n",
    "\\Delta \\tilde{F}^n_{pot} = \\langle \\tilde{\\Phi}^{n+1}|\\hat{V}^n | \\Delta \\tilde{\\Phi}^n\\rangle\n",
    "                         + \\langle \\tilde{\\Phi}^{n+1}|\\Delta \\hat{V}^n | \\tilde{\\Phi}^{n+1}\\rangle\n",
    "\\end{align*}\n",
    "\n",
    "\n",
    "The orbitals are orthonormalized by a Löwdin rotation using the overlap matrix\n",
    "$\\tilde{S} = \\langle \\tilde{\\Phi}^{n+1}|\\tilde{\\Phi}^{n+1}\\rangle$\n",
    "\\begin{align*}\n",
    "\\Phi^{n+1}   &= \\tilde{\\Phi}^{n+1} \\tilde{S}^{-1/2}\\\\\n",
    "F^{n+1}      &= (\\tilde{S}^{-1/2})^\\dagger \\tilde{F}^{n+1} \\tilde{S}^{-1/2}\n",
    "\\end{align*}\n",
    "\n",
    "The energy contributions are computed as follows\n",
    "\\begin{align*}\n",
    "E_{orb}  &= 2\\ tr(F) \\\\\n",
    "E_{en}   &= 2\\ tr\\left(\\langle \\Phi | \\hat{V}_{nuc} | \\Phi \\rangle\\right) \\\\\n",
    "E_{coul} &= 2\\ tr\\left( \\langle \\Phi | \\hat{J} | \\Phi \\rangle\\right) \\\\\n",
    "E_{ex}   &= - tr\\left(\\langle \\Phi | \\hat{K} | \\Phi \\rangle\\right) \\\\\n",
    "E_{tot}  &= E_{orb} - E_{coul} - E_{ex} \\\\\n",
    "E_{kin}  &= E_{tot} - E_{coul} - E_{ex} - E_{en} \\\\\n",
    "\\end{align*}\n"
   ]
  },
  {
   "cell_type": "markdown",
   "metadata": {},
   "source": [
    "Here we have implemented a simple SCF solver for kinetic-free Hartree-Fock using VAMPyR, a multiresolution analysis Python library. The implementation is fully general for many-electron (closed-shell) molecules, but the current primitive initial guess for the orbitals prohibits the use on anything more complicated than a beryllium atom.\n",
    "\n",
    "1. Define molecule with nuclear charges and positions\n",
    "2. Define the computational details for the MRA\n",
    "2. Create starting guesses for the Fock matrix $F^n$ and orbitals $\\Phi_n$\n",
    "3. Run the SCF solver\n",
    "4. Plot energy and orbital errors for each SCF cycle\n",
    "5. Plot converged orbitals"
   ]
  },
  {
   "cell_type": "code",
   "execution_count": null,
   "metadata": {},
   "outputs": [],
   "source": [
    "from vampyr import vampyr3d as vp\n",
    "from SCF import scf_solver, starting_guess\n",
    "import numpy as np\n",
    "import pandas as pd\n",
    "import matplotlib.pyplot as plt"
   ]
  },
  {
   "cell_type": "code",
   "execution_count": null,
   "metadata": {},
   "outputs": [],
   "source": [
    "# Define molecule\n",
    "mol = [\n",
    "    {\"Z\": 4.0, \"R\": [0.0, 0.0, 0.0]}\n",
    "]\n",
    "\n",
    "# Set target precision\n",
    "precision = 1.0e-3\n",
    "\n",
    "# Define MRA basis and computational domain\n",
    "k = 5                       # Polynomial order of MRA basis\n",
    "world = [-20, 20]           # Computational domain [-L,L]^3 (a.u.)\n",
    "MRA = vp.MultiResolutionAnalysis(order=k, box=world)\n",
    "\n",
    "# Setup guess for the orbitals and the Fock matrix\n",
    "Phi_n = starting_guess(mra=MRA, atom=mol[0], n_orbs=2, prec=precision)\n",
    "F_n = np.array([\n",
    "    [-1.0, 0.0],\n",
    "    [ 0.0,-0.5]\n",
    "]) "
   ]
  },
  {
   "cell_type": "code",
   "execution_count": null,
   "metadata": {},
   "outputs": [],
   "source": [
    "# Run SCF solver to optimize the orbitals\n",
    "orbital_updates, energies, Phi_n = scf_solver(MRA, mol, Phi_n, F_n, precision, precision, max_iter=30)"
   ]
  },
  {
   "cell_type": "markdown",
   "metadata": {},
   "source": [
    "To study the convergence we'll use pandas, an easy to use data analysis library built on numpy and matplotlib. We'll first look at how the energy converges"
   ]
  },
  {
   "cell_type": "code",
   "execution_count": null,
   "metadata": {},
   "outputs": [],
   "source": [
    "energies_df = pd.DataFrame(energies) # Convert energies list of dictionaries to a pandas dataframe\n",
    "\n",
    "# Calcuate differences between each row\n",
    "energy_diff = energies_df.diff(axis=0)\n",
    "energy_diff = energy_diff.dropna()\n",
    "energy_diff = energy_diff.abs()\n",
    "energy_diff = energy_diff.rename(columns={\"$E_{orb}$\":\"$\\Delta E_{orb}$\",\"$E_{en}$\":\"$\\Delta E_{en}$\",\n",
    "                                          \"$E_{coul}$\":\"$\\Delta E_{coul}$\", \"$E_{ex}$\":\"$\\Delta E_{ex}$\",\n",
    "                                          \"$E_{kin}$\":\"$\\Delta E_{kin}$\", \"$E_{tot}$\":\"$\\Delta E_{tot}$\"})\n",
    "energy_diff.plot(logy=True, style=\".-\")\n",
    "plt.title(\"Energy convergence Beryllium\", fontstyle=\"italic\", fontsize=14,fontweight='bold')\n",
    "plt.xlabel(\"Iteration\", fontstyle=\"italic\", fontsize=14)\n",
    "plt.ylabel(\"Energy error\", fontstyle=\"italic\", fontsize=14)\n",
    "plt.yticks(fontsize=12)\n",
    "plt.xticks(fontsize=12)\n",
    "plt.axhline(precision, linestyle=\"--\", color=\"black\")\n",
    "plt.legend(ncol=2)\n",
    "plt.text(1, precision*1.2, \"Precision\", fontsize=13)\n",
    "plt.show()"
   ]
  },
  {
   "cell_type": "markdown",
   "metadata": {},
   "source": [
    "We see that the total energy $E_{tot}$ converges quadratically while each of the contributions to the total energy converges linearly. "
   ]
  },
  {
   "cell_type": "code",
   "execution_count": null,
   "metadata": {
    "scrolled": true
   },
   "outputs": [],
   "source": [
    "updates_df = pd.DataFrame(orbital_updates)\n",
    "updates_df = updates_df.rename(columns={0:\"$||\\Delta \\phi_0||$\", 1:\"$||\\Delta \\phi_1||$\"})\n",
    "updates_df.plot(logy=True, style=\".-\")\n",
    "plt.title(\"Orbital convergence Beryllium\", fontstyle=\"italic\", fontsize=14,fontweight='bold')\n",
    "plt.xlabel(\"Iteration\", fontstyle=\"italic\", fontsize=14)\n",
    "plt.ylabel(\"Orbital error\", fontstyle=\"italic\", fontsize=14)\n",
    "plt.yticks(fontsize=12)\n",
    "plt.xticks(fontsize=12)\n",
    "plt.legend()\n",
    "plt.axhline(precision, linestyle=\"--\", color=\"black\")\n",
    "plt.text(0, precision*0.5, f\"Precision {1.0e-6}\", fontsize=13)\n",
    "plt.show()"
   ]
  },
  {
   "cell_type": "markdown",
   "metadata": {},
   "source": [
    "Here we see both orbitals have converged to within our convergence threshold. Next let's plot the converged orbitals. Since this is a closed shell system for Beryllium we expect to see\n",
    "an s and p orbital. Let's plot it along the z-axis"
   ]
  },
  {
   "cell_type": "code",
   "execution_count": null,
   "metadata": {},
   "outputs": [],
   "source": [
    "x = np.arange(-3.0, 3.0, 0.01)\n",
    "phi_0 = [Phi_n[0]([0.0, 0.0, z_i]) for z_i in x]\n",
    "phi_1 = [Phi_n[1]([0.0, 0.0, z_i]) for z_i in x]\n",
    "plt.plot(x, phi_0, label=\"$\\phi_0$\")\n",
    "plt.plot(x, phi_1, label=\"$\\phi_1$\")\n",
    "plt.legend()\n",
    "plt.yticks(fontsize=12)\n",
    "plt.xticks(fontsize=12)\n",
    "plt.title(\"Beryllium orbitals\", fontstyle=\"italic\", fontsize=12,fontweight='bold')\n",
    "plt.show()"
   ]
  },
  {
   "cell_type": "code",
   "execution_count": null,
   "metadata": {},
   "outputs": [],
   "source": []
  }
 ],
 "metadata": {
  "interpreter": {
   "hash": "292650ef1f960f33bd2af08328f280785c7101fd69ea52d1d408170a70618617"
  },
  "kernelspec": {
   "display_name": "Python 3 (ipykernel)",
   "language": "python",
   "name": "python3"
  },
  "language_info": {
   "codemirror_mode": {
    "name": "ipython",
    "version": 3
   },
   "file_extension": ".py",
   "mimetype": "text/x-python",
   "name": "python",
   "nbconvert_exporter": "python",
   "pygments_lexer": "ipython3",
   "version": "3.9.10"
  }
 },
 "nbformat": 4,
 "nbformat_minor": 2
}
