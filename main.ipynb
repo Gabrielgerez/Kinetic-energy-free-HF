{
 "cells": [
  {
   "cell_type": "code",
   "execution_count": 1,
   "metadata": {},
   "outputs": [],
   "source": [
    "from vampyr import vampyr3d as vp\n",
    "import numpy as np\n",
    "from scf_solver import scf_solver\n",
    "from starting_guess import starting_guess\n",
    "\n",
    "import numpy.linalg as LA\n",
    "\n",
    "\n",
    "mra = vp.MultiResolutionAnalysis(order=7, box=[-16, 16])\n",
    "epsilon = 1.0e-4\n",
    "be = [[4, [0.0, 0.0, 0.0]]]\n",
    "\n"
   ]
  },
  {
   "cell_type": "code",
   "execution_count": 4,
   "metadata": {},
   "outputs": [],
   "source": [
    "Phi_n = starting_guess(mra, epsilon, 2, [0.0,0.0,0.0])\n",
    "fock_n = np.array([[-1.0, 0.0], [0.0, -0.5]]) # Startig guess"
   ]
  },
  {
   "cell_type": "code",
   "execution_count": 5,
   "metadata": {},
   "outputs": [
    {
     "name": "stdout",
     "output_type": "stream",
     "text": [
      "[[-1.   0. ]\n",
      " [ 0.  -0.5]]\n",
      "[[-3.70577872  0.        ]\n",
      " [ 0.         -0.14052104]]\n",
      "[[-4.59455902  0.        ]\n",
      " [ 0.         -0.30882647]]\n",
      "[[-4.74665276  0.        ]\n",
      " [ 0.         -0.30911719]]\n",
      "[[-4.75432944  0.        ]\n",
      " [ 0.         -0.30889382]]\n"
     ]
    },
    {
     "ename": "KeyboardInterrupt",
     "evalue": "",
     "output_type": "error",
     "traceback": [
      "\u001b[0;31m---------------------------------------------------------------------------\u001b[0m",
      "\u001b[0;31mKeyboardInterrupt\u001b[0m                         Traceback (most recent call last)",
      "\u001b[1;32m/home/bjorgve/src/Kinetic-energy-free-HF/main.ipynb Cell 3'\u001b[0m in \u001b[0;36m<module>\u001b[0;34m\u001b[0m\n\u001b[0;32m----> <a href='vscode-notebook-cell://ssh-remote%2Bwoolf.chem.uit.no/home/bjorgve/src/Kinetic-energy-free-HF/main.ipynb#ch0000002vscode-remote?line=0'>1</a>\u001b[0m updates, energies, Phi_n \u001b[39m=\u001b[39m scf_solver(Phi_n, fock_n, be, mra, epsilon)\n",
      "File \u001b[0;32m~/src/Kinetic-energy-free-HF/scf_solver.py:33\u001b[0m, in \u001b[0;36mscf_solver\u001b[0;34m(Phi_n, fock_n, atoms, mra, epsilon)\u001b[0m\n\u001b[1;32m     <a href='file:///home/bjorgve/src/Kinetic-energy-free-HF/scf_solver.py?line=28'>29</a>\u001b[0m V_nuc \u001b[39m=\u001b[39m NuclearOperator(mra, atoms, prec\u001b[39m=\u001b[39mepsilon)\n\u001b[1;32m     <a href='file:///home/bjorgve/src/Kinetic-energy-free-HF/scf_solver.py?line=30'>31</a>\u001b[0m \u001b[39mwhile\u001b[39;00m (\u001b[39mmax\u001b[39m(update) \u001b[39m>\u001b[39m thrs):\n\u001b[0;32m---> <a href='file:///home/bjorgve/src/Kinetic-energy-free-HF/scf_solver.py?line=32'>33</a>\u001b[0m     J_n \u001b[39m=\u001b[39m CouloumbOperator(Phi_n, mra, prec\u001b[39m=\u001b[39;49mepsilon)\n\u001b[1;32m     <a href='file:///home/bjorgve/src/Kinetic-energy-free-HF/scf_solver.py?line=33'>34</a>\u001b[0m     K_n \u001b[39m=\u001b[39m ExchangeOperator(Phi_n, mra, prec\u001b[39m=\u001b[39mepsilon)\n\u001b[1;32m     <a href='file:///home/bjorgve/src/Kinetic-energy-free-HF/scf_solver.py?line=34'>35</a>\u001b[0m     H \u001b[39m=\u001b[39m HelmholtzOperator(epsilon\u001b[39m=\u001b[39mnp\u001b[39m.\u001b[39mdiag(fock_n), mra\u001b[39m=\u001b[39mmra, prec\u001b[39m=\u001b[39mepsilon)\n",
      "File \u001b[0;32m~/src/Kinetic-energy-free-HF/Operators.py:65\u001b[0m, in \u001b[0;36mCouloumbOperator.__init__\u001b[0;34m(self, Phi, mra, prec)\u001b[0m\n\u001b[1;32m     <a href='file:///home/bjorgve/src/Kinetic-energy-free-HF/Operators.py?line=62'>63</a>\u001b[0m \u001b[39mself\u001b[39m\u001b[39m.\u001b[39mmra \u001b[39m=\u001b[39m mra\n\u001b[1;32m     <a href='file:///home/bjorgve/src/Kinetic-energy-free-HF/Operators.py?line=63'>64</a>\u001b[0m \u001b[39mself\u001b[39m\u001b[39m.\u001b[39mprec \u001b[39m=\u001b[39m prec\n\u001b[0;32m---> <a href='file:///home/bjorgve/src/Kinetic-energy-free-HF/Operators.py?line=64'>65</a>\u001b[0m \u001b[39mself\u001b[39m\u001b[39m.\u001b[39mP \u001b[39m=\u001b[39m vp\u001b[39m.\u001b[39;49mPoissonOperator(mra\u001b[39m=\u001b[39;49mmra, prec\u001b[39m=\u001b[39;49m\u001b[39mself\u001b[39;49m\u001b[39m.\u001b[39;49mprec)\n\u001b[1;32m     <a href='file:///home/bjorgve/src/Kinetic-energy-free-HF/Operators.py?line=65'>66</a>\u001b[0m \u001b[39mself\u001b[39m\u001b[39m.\u001b[39mrho \u001b[39m=\u001b[39m \u001b[39mNone\u001b[39;00m\n\u001b[1;32m     <a href='file:///home/bjorgve/src/Kinetic-energy-free-HF/Operators.py?line=66'>67</a>\u001b[0m \u001b[39mself\u001b[39m\u001b[39m.\u001b[39msetup()\n",
      "\u001b[0;31mKeyboardInterrupt\u001b[0m: "
     ]
    }
   ],
   "source": [
    "updates, energies, Phi_n = scf_solver(Phi_n, fock_n, be, mra, epsilon)"
   ]
  },
  {
   "cell_type": "code",
   "execution_count": 5,
   "metadata": {},
   "outputs": [],
   "source": [
    "import pandas as pd\n",
    "energies_df = pd.DataFrame(energies)"
   ]
  },
  {
   "cell_type": "code",
   "execution_count": 6,
   "metadata": {},
   "outputs": [],
   "source": [
    "energies_df = energies_df.diff(axis=0)"
   ]
  },
  {
   "cell_type": "code",
   "execution_count": 7,
   "metadata": {},
   "outputs": [],
   "source": [
    "energies_df = energies_df.dropna()\n",
    "energies_df = energies_df.abs()"
   ]
  },
  {
   "cell_type": "code",
   "execution_count": 8,
   "metadata": {},
   "outputs": [
    {
     "data": {
      "text/html": [
       "<div>\n",
       "<style scoped>\n",
       "    .dataframe tbody tr th:only-of-type {\n",
       "        vertical-align: middle;\n",
       "    }\n",
       "\n",
       "    .dataframe tbody tr th {\n",
       "        vertical-align: top;\n",
       "    }\n",
       "\n",
       "    .dataframe thead th {\n",
       "        text-align: right;\n",
       "    }\n",
       "</style>\n",
       "<table border=\"1\" class=\"dataframe\">\n",
       "  <thead>\n",
       "    <tr style=\"text-align: right;\">\n",
       "      <th></th>\n",
       "      <th>$\\sum_i \\epsilon_i$</th>\n",
       "      <th>$E_{coul}$</th>\n",
       "      <th>$E_{en}$</th>\n",
       "      <th>$E_{ex}$</th>\n",
       "      <th>$E_{kin}$</th>\n",
       "      <th>$E_{tot}$</th>\n",
       "    </tr>\n",
       "  </thead>\n",
       "  <tbody>\n",
       "    <tr>\n",
       "      <th>1</th>\n",
       "      <td>2.114171</td>\n",
       "      <td>0.192219</td>\n",
       "      <td>3.140535</td>\n",
       "      <td>0.162528</td>\n",
       "      <td>1.735856</td>\n",
       "      <td>1.759425</td>\n",
       "    </tr>\n",
       "    <tr>\n",
       "      <th>2</th>\n",
       "      <td>0.304769</td>\n",
       "      <td>0.427725</td>\n",
       "      <td>3.122306</td>\n",
       "      <td>0.223814</td>\n",
       "      <td>2.409714</td>\n",
       "      <td>0.508681</td>\n",
       "    </tr>\n",
       "    <tr>\n",
       "      <th>3</th>\n",
       "      <td>0.014907</td>\n",
       "      <td>0.228362</td>\n",
       "      <td>1.658689</td>\n",
       "      <td>0.119460</td>\n",
       "      <td>1.425978</td>\n",
       "      <td>0.123809</td>\n",
       "    </tr>\n",
       "    <tr>\n",
       "      <th>4</th>\n",
       "      <td>0.021603</td>\n",
       "      <td>0.096759</td>\n",
       "      <td>0.731876</td>\n",
       "      <td>0.051750</td>\n",
       "      <td>0.663461</td>\n",
       "      <td>0.023406</td>\n",
       "    </tr>\n",
       "    <tr>\n",
       "      <th>5</th>\n",
       "      <td>0.012654</td>\n",
       "      <td>0.036681</td>\n",
       "      <td>0.293065</td>\n",
       "      <td>0.020192</td>\n",
       "      <td>0.272740</td>\n",
       "      <td>0.003836</td>\n",
       "    </tr>\n",
       "  </tbody>\n",
       "</table>\n",
       "</div>"
      ],
      "text/plain": [
       "   $\\sum_i \\epsilon_i$  $E_{coul}$  $E_{en}$  $E_{ex}$  $E_{kin}$  $E_{tot}$\n",
       "1             2.114171    0.192219  3.140535  0.162528   1.735856   1.759425\n",
       "2             0.304769    0.427725  3.122306  0.223814   2.409714   0.508681\n",
       "3             0.014907    0.228362  1.658689  0.119460   1.425978   0.123809\n",
       "4             0.021603    0.096759  0.731876  0.051750   0.663461   0.023406\n",
       "5             0.012654    0.036681  0.293065  0.020192   0.272740   0.003836"
      ]
     },
     "execution_count": 8,
     "metadata": {},
     "output_type": "execute_result"
    }
   ],
   "source": [
    "energies_df.head()"
   ]
  },
  {
   "cell_type": "code",
   "execution_count": 9,
   "metadata": {},
   "outputs": [
    {
     "data": {
      "text/plain": [
       "Text(0, 0.5, 'Energy error')"
      ]
     },
     "execution_count": 9,
     "metadata": {},
     "output_type": "execute_result"
    },
    {
     "data": {
      "image/png": "[encoded data removed]",
      "text/plain": [
       "<Figure size 432x288 with 1 Axes>"
      ]
     },
     "metadata": {
      "needs_background": "light"
     },
     "output_type": "display_data"
    }
   ],
   "source": [
    "import matplotlib.pyplot as plt\n",
    "#energies_df.loc[:, \"couloumb_energy\":\"total_energy\"].plot(logy=True)\n",
    "energies_df.plot(logy=True)\n",
    "plt.xlabel(\"Itration\")\n",
    "plt.ylabel(\"Energy error\")"
   ]
  },
  {
   "cell_type": "code",
   "execution_count": 10,
   "metadata": {},
   "outputs": [],
   "source": [
    "updates_df = pd.DataFrame(updates)\n",
    "updates_df[\"norm\"] = updates_df.apply(lambda x : np.sqrt(x[0]**2 + x[1]**2), axis=1)"
   ]
  },
  {
   "cell_type": "code",
   "execution_count": 18,
   "metadata": {},
   "outputs": [
    {
     "data": {
      "text/plain": [
       "Text(0.5, 0, 'Iteration')"
      ]
     },
     "execution_count": 18,
     "metadata": {},
     "output_type": "execute_result"
    },
    {
     "data": {
      "image/png": "[encoded data removed]",
      "text/plain": [
       "<Figure size 432x288 with 1 Axes>"
      ]
     },
     "metadata": {
      "needs_background": "light"
     },
     "output_type": "display_data"
    }
   ],
   "source": [
    "updates_df.plot(logy=True, style=\"x\")\n",
    "plt.ylabel(\"Orbital Error\")\n",
    "plt.xlabel(\"Iteration\")"
   ]
  },
  {
   "cell_type": "code",
   "execution_count": null,
   "metadata": {},
   "outputs": [],
   "source": []
  },
  {
   "cell_type": "code",
   "execution_count": null,
   "metadata": {},
   "outputs": [],
   "source": []
  }
 ],
 "metadata": {
  "interpreter": {
   "hash": "292650ef1f960f33bd2af08328f280785c7101fd69ea52d1d408170a70618617"
  },
  "kernelspec": {
   "display_name": "Python 3.9.0 ('vampyr-paper')",
   "language": "python",
   "name": "python3"
  },
  "language_info": {
   "codemirror_mode": {
    "name": "ipython",
    "version": 3
   },
   "file_extension": ".py",
   "mimetype": "text/x-python",
   "name": "python",
   "nbconvert_exporter": "python",
   "pygments_lexer": "ipython3",
   "version": "3.9.0"
  },
  "orig_nbformat": 4
 },
 "nbformat": 4,
 "nbformat_minor": 2
}
